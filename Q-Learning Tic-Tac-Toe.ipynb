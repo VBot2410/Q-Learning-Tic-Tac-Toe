{
 "cells": [
  {
   "cell_type": "code",
   "execution_count": 1,
   "metadata": {
    "collapsed": false,
    "scrolled": false
   },
   "outputs": [
    {
     "name": "stdout",
     "output_type": "stream",
     "text": [
      "Train the Q Learner?(Y/N)Y\n",
      "How Many Games of Self-Play?500000\n",
      "Iterations: 20000, X_Wins: 43.49%, O_Wins: 44.08%, Draws%: 12.43% \n",
      "Iterations: 40000, X_Wins: 43.68%, O_Wins: 43.37%, Draws%: 12.95% \n",
      "Iterations: 60000, X_Wins: 43.88%, O_Wins: 43.45%, Draws%: 12.67% \n",
      "Iterations: 80000, X_Wins: 43.48%, O_Wins: 43.80%, Draws%: 12.72% \n",
      "Iterations: 100000, X_Wins: 43.69%, O_Wins: 43.48%, Draws%: 12.83% \n",
      "Iterations: 120000, X_Wins: 43.38%, O_Wins: 44.09%, Draws%: 12.53% \n",
      "Iterations: 140000, X_Wins: 43.45%, O_Wins: 43.45%, Draws%: 13.11% \n",
      "Iterations: 160000, X_Wins: 43.41%, O_Wins: 43.87%, Draws%: 12.72% \n",
      "Iterations: 180000, X_Wins: 43.23%, O_Wins: 43.83%, Draws%: 12.95% \n",
      "Iterations: 200000, X_Wins: 43.94%, O_Wins: 43.36%, Draws%: 12.70% \n",
      "Iterations: 220000, X_Wins: 43.61%, O_Wins: 43.42%, Draws%: 12.97% \n",
      "Iterations: 240000, X_Wins: 44.07%, O_Wins: 43.31%, Draws%: 12.61% \n",
      "Iterations: 260000, X_Wins: 42.97%, O_Wins: 44.22%, Draws%: 12.81% \n",
      "Iterations: 280000, X_Wins: 43.62%, O_Wins: 43.92%, Draws%: 12.46% \n",
      "Iterations: 300000, X_Wins: 43.53%, O_Wins: 43.99%, Draws%: 12.47% \n",
      "Iterations: 320000, X_Wins: 43.53%, O_Wins: 43.63%, Draws%: 12.83% \n",
      "Iterations: 340000, X_Wins: 43.95%, O_Wins: 43.27%, Draws%: 12.78% \n",
      "Iterations: 360000, X_Wins: 44.39%, O_Wins: 43.33%, Draws%: 12.28% \n",
      "Iterations: 380000, X_Wins: 43.62%, O_Wins: 43.58%, Draws%: 12.80% \n",
      "Iterations: 400000, X_Wins: 44.02%, O_Wins: 43.41%, Draws%: 12.56% \n",
      "Iterations: 420000, X_Wins: 44.10%, O_Wins: 43.59%, Draws%: 12.30% \n",
      "Iterations: 440000, X_Wins: 43.29%, O_Wins: 44.28%, Draws%: 12.43% \n",
      "Iterations: 460000, X_Wins: 44.28%, O_Wins: 43.41%, Draws%: 12.31% \n",
      "Iterations: 480000, X_Wins: 43.72%, O_Wins: 43.48%, Draws%: 12.80% \n"
     ]
    }
   ],
   "source": [
    "########\n",
    "## @author Vaibhav Bhilare\n",
    "## @copyright 2017, Vaibhav Bhilare\n",
    "## Application of Q-Learning to teach an agent to play Tic-Tac-Toe from scratch\n",
    "########\n",
    "\n",
    "## Imports\n",
    "import random\n",
    "import operator\n",
    "import pickle\n",
    "\n",
    "## Class for Game\n",
    "class TicTacToe:\n",
    "    def __init__(self, playerX, playerO):\n",
    "        self.board = [' ']*9\n",
    "        self.playerX, self.playerO = playerX, playerO\n",
    "        self.playerX_turn = random.choice([True, False])\n",
    "\n",
    "    def Game(self,X_Wins,O_Wins,Game_Type):\n",
    "        self.playerX.Character('X')\n",
    "        self.playerO.Character('O')\n",
    "        while True:\n",
    "            if self.playerX_turn:\n",
    "                player, char, other_player = self.playerX, 'X', self.playerO\n",
    "            else:\n",
    "                player, char, other_player = self.playerO, 'O', self.playerX\n",
    "            if player.Player_Type == \"human\":\n",
    "                self.display_board()\n",
    "            if Game_Type=='Q_Table':  ## Q-Table Game\n",
    "                space = player.move(self.board,char)\n",
    "            elif Game_Type=='Neural_Network':  ## Neural Network Game\n",
    "                space = player.move_NN(self.board,char)\n",
    "            if self.board[space-1] != ' ':  ## Illegal move\n",
    "                player.reward(-99, self.board)\n",
    "                return X_Wins,O_Wins\n",
    "                break\n",
    "            self.board[space-1] = char\n",
    "            if self.player_wins('X'):  ## X Wins the Game\n",
    "                X_Wins=X_Wins+1\n",
    "                player=self.playerX\n",
    "                player.reward(1, self.board)  ## +1 Reward for Winning\n",
    "                other_player.reward(-1, self.board)\n",
    "                return X_Wins,O_Wins\n",
    "                break\n",
    "            elif self.player_wins('O'):  ## O Wins the Game\n",
    "                O_Wins=O_Wins+1\n",
    "                player=self.playerO\n",
    "                player.reward(1, self.board)\n",
    "                other_player.reward(-1, self.board)  ## -1 Reward for losing\n",
    "                return X_Wins,O_Wins\n",
    "                break\n",
    "            if self.board_full():  ## Draw\n",
    "                player=self.playerX\n",
    "                player.reward(0, self.board)  ## 0 Reward for Draw\n",
    "                other_player.reward(0, self.board)\n",
    "                if Print_Winner==True:\n",
    "                    self.display_board()\n",
    "                    print('Draw!')\n",
    "                return X_Wins,O_Wins\n",
    "                break\n",
    "            other_player.reward(0, self.board)\n",
    "            self.playerX_turn = not self.playerX_turn\n",
    "\n",
    "    def player_wins(self, char):\n",
    "        for a,b,c in [(0,1,2), (3,4,5), (6,7,8),\n",
    "                      (0,3,6), (1,4,7), (2,5,8),\n",
    "                      (0,4,8), (2,4,6)]:\n",
    "            if char == self.board[a] == self.board[b] == self.board[c]:\n",
    "                if Print_Winner==True:\n",
    "                    self.display_board()\n",
    "                    print('Player {} Wins!'.format(char))\n",
    "                return True\n",
    "        return False\n",
    "\n",
    "    def board_full(self):\n",
    "        return not any([space == ' ' for space in self.board])\n",
    "\n",
    "    def display_board(self):\n",
    "        Row = \" {} | {} | {}\"\n",
    "        Column = \"\\n-----------\\n\"\n",
    "        print((Row + Column + Row + Column + Row).format(*self.board))\n",
    "\n",
    "\n",
    "class Player(object):\n",
    "    def __init__(self):\n",
    "        self.Player_Type = \"human\"\n",
    "\n",
    "    def Character(self, char):\n",
    "        print(\"\\nNew game!\")\n",
    "\n",
    "    def move(self, board, char):\n",
    "        return int(input(\"Your Move? \"))\n",
    "    \n",
    "    def move_NN(self, board, char):\n",
    "        return int(input(\"Your Move?\"))\n",
    "\n",
    "    def reward(self, value, board):\n",
    "        pass\n",
    "\n",
    "    def available_moves(self, board):\n",
    "        return [i+1 for i in range(0,9) if board[i] == ' ']\n",
    "\n",
    "\n",
    "class Q_Learning_Player(Player):\n",
    "    def __init__(self, epsilon=1, alpha=0.01, gamma=0.9):\n",
    "        self.Player_Type = \"Qlearner\"\n",
    "        self.epsilon = epsilon  ## Exploration Factor\n",
    "        self.alpha = alpha  ## learning Rate\n",
    "        self.gamma = gamma  ## Discount Factor for Future Rewards\n",
    "\n",
    "    def Character(self, char):\n",
    "        self.last_board = (' ',)*9\n",
    "        self.last_move = None\n",
    "\n",
    "    def getQ(self, state, action):\n",
    "        if q.get((state, action)) is None:  ## If (State,Action) pair not present in Q-Table, Initialize to 0 \n",
    "            q[(state, action)] = 0.0\n",
    "        return q.get((state, action))\n",
    "    \n",
    "    def getQ_NN(self, state, action):\n",
    "        State_List=[]\n",
    "        Action=[0] * 9\n",
    "        for Slot in state:\n",
    "            if Slot==' ':\n",
    "                Slot=-1\n",
    "            if Slot=='X':\n",
    "                Slot=0\n",
    "            if Slot=='O':\n",
    "                Slot=1\n",
    "            #print(Slot)\n",
    "            State_List.append(Slot)\n",
    "        Action[action-1]=1\n",
    "        State_Action=State_List+Action\n",
    "        Quality_List=clf.predict(np.array(State_Action).reshape(1,-1))\n",
    "        Quality_List=Quality_List.tolist()\n",
    "        max_value = max(Quality_List)\n",
    "        return max_value\n",
    "        \n",
    "    def move(self, board, char):\n",
    "        if self.Player_Type=='Qlearner' and Print_Winner==True:\n",
    "            print('Q_Learning Player Thinking...')\n",
    "        self.last_board = tuple(board)\n",
    "        actions = self.available_moves(board)\n",
    "\n",
    "        if random.random() < self.epsilon:\n",
    "            self.last_move = random.choice(actions)\n",
    "            return self.last_move\n",
    "\n",
    "        qs = [self.getQ(self.last_board, a) for a in actions]\n",
    "        if char=='X':\n",
    "            maxQ = max(qs)\n",
    "        else:\n",
    "            maxQ = max(qs) # min(qs)\n",
    "\n",
    "        if qs.count(maxQ) > 1:\n",
    "            best_options = [i for i in range(len(actions)) if qs[i] == maxQ]\n",
    "            i = random.choice(best_options)\n",
    "        else:\n",
    "            i = qs.index(maxQ)\n",
    "\n",
    "        self.last_move = actions[i]\n",
    "        return actions[i]\n",
    "    \n",
    "    def move_NN(self, board, char):\n",
    "        if Print_Winner==True:\n",
    "            print('Neural_Network Player Thinking...')\n",
    "        self.last_board = tuple(board)\n",
    "        actions = self.available_moves(board)\n",
    "        qs= [self.getQ_NN(self.last_board, a) for a in actions]\n",
    "        maxQ = max(qs)\n",
    "        if qs.count(maxQ) > 1:\n",
    "            print('Confused')\n",
    "            best_options = [i for i in range(len(actions)) if qs[i] == maxQ]\n",
    "            i = random.choice(best_options)\n",
    "            print(i)\n",
    "        else:\n",
    "            i = qs.index(maxQ)\n",
    "\n",
    "        self.last_move = actions[i]\n",
    "        return actions[i]\n",
    "\n",
    "    def reward(self, value, board):\n",
    "        if self.last_move:\n",
    "            self.learn(self.last_board, self.last_move, value, tuple(board))\n",
    "\n",
    "    def learn(self, state, action, reward, result_state):\n",
    "        prev = self.getQ(state, action)\n",
    "        maxqnew = max([self.getQ(result_state, a) for a in self.available_moves(state)])\n",
    "        q[(state, action)] = prev + self.alpha * ((reward + self.gamma*maxqnew) - prev)\n",
    "        \n",
    "    def reward_intermediate(self,value,board):\n",
    "        if self.last_move:\n",
    "            self.learn_intermediate(self.last_board, self.last_move, value, tuple(board))\n",
    "    \n",
    "    def learn_intermediate(self,state,action,reward,result_state):\n",
    "        prev = self.getQ(state, action)\n",
    "        maxqnew = max([self.getQ(result_state, a) for a in self.available_moves(state)])\n",
    "        q[(state, action)] = prev + self.alpha * ((reward + self.gamma*maxqnew) - prev)\n",
    "\n",
    "\n",
    "p1 = Q_Learning_Player()\n",
    "p2 = Q_Learning_Player()\n",
    "Print_Winner=False\n",
    "q = {} # (state, action) keys: Q values\n",
    "global X_Wins\n",
    "global O_Wins\n",
    "X_Wins=0\n",
    "O_Wins=0\n",
    "Game_Type='Q_Table'\n",
    "\n",
    "Training_Input=input('Train the Q Learner?(Y/N)')\n",
    "if Training_Input=='Y':\n",
    "    Games_Input=input('How Many Games of Self-Play?')\n",
    "    for i in range(1,int(Games_Input)):\n",
    "        Play= TicTacToe(p1, p2)\n",
    "        #p1.epsilon=max(p1.epsilon*0.999,0.02)\n",
    "        #p2.epsilon=max(p2.epsilon*0.999,0.02)\n",
    "        X_Wins,O_Wins=Play.Game(X_Wins,O_Wins,Game_Type)\n",
    "        if i%20000==0:\n",
    "            print(('Iterations: {}, X_Wins: {:0.2f}%, O_Wins: {:0.2f}%, Draws%: {:0.2f}% ').format(i,\n",
    "                                        X_Wins/200,O_Wins/200,100-((X_Wins+O_Wins)/200)))\n",
    "            X_Wins=0\n",
    "            O_Wins=0\n",
    "else:\n",
    "    print('Loading Saved Model...')\n",
    "    pickle_in = open(\"Q_Table.pickle\",\"rb\")\n",
    "    q = pickle.load(pickle_in)\n",
    "\n",
    "p2 = Player()\n",
    "p1.epsilon = 0\n",
    "Print_Winner=True\n",
    "\n",
    "\n",
    "\n",
    "# while True:\n",
    "#     user_input=input('Play Game?(Y,N)')\n",
    "#     if user_input=='N':\n",
    "#         break\n",
    "#    Play= TicTacToe(p1, p2)\n",
    "#     Play.Game(X_Wins,O_Wins,Game_Type)"
   ]
  },
  {
   "cell_type": "code",
   "execution_count": 2,
   "metadata": {
    "collapsed": false
   },
   "outputs": [],
   "source": [
    "# # Write Pickle\n",
    "# f = open(\"Q_Table.pickle\",\"wb\")\n",
    "# pickle.dump(q, f)\n",
    "# f.close()\n",
    "# Master=q\n",
    "# del q"
   ]
  },
  {
   "cell_type": "code",
   "execution_count": 3,
   "metadata": {
    "collapsed": false
   },
   "outputs": [
    {
     "name": "stdout",
     "output_type": "stream",
     "text": [
      "75219\n"
     ]
    }
   ],
   "source": [
    "# # Read Pickle\n",
    "# pickle_in = open(\"Q_Table.pickle\",\"rb\")\n",
    "# q = pickle.load(pickle_in)\n",
    "\n",
    "# ## Below This -> Debug\n",
    "# # shared_items = set(Master.items()) & set(q.items())\n",
    "# # print(len(shared_items))\n",
    "print(len(q))"
   ]
  },
  {
   "cell_type": "code",
   "execution_count": 4,
   "metadata": {
    "collapsed": false,
    "scrolled": false
   },
   "outputs": [
    {
     "name": "stdout",
     "output_type": "stream",
     "text": [
      "Play Game?(Y,N)Y\n",
      "\n",
      "New game!\n",
      "   |   |  \n",
      "-----------\n",
      "   |   |  \n",
      "-----------\n",
      "   |   |  \n",
      "Your Move? 5\n",
      "Q_Learning Player Thinking...\n",
      " X |   |  \n",
      "-----------\n",
      "   | O |  \n",
      "-----------\n",
      "   |   |  \n",
      "Your Move? 6\n",
      "Q_Learning Player Thinking...\n",
      " X |   |  \n",
      "-----------\n",
      " X | O | O\n",
      "-----------\n",
      "   |   |  \n",
      "Your Move? 7\n",
      "Q_Learning Player Thinking...\n",
      " X |   | X\n",
      "-----------\n",
      " X | O | O\n",
      "-----------\n",
      " O |   |  \n",
      "Your Move? 2\n",
      "Q_Learning Player Thinking...\n",
      " X | O | X\n",
      "-----------\n",
      " X | O | O\n",
      "-----------\n",
      " O | X |  \n",
      "Your Move? 9\n",
      " X | O | X\n",
      "-----------\n",
      " X | O | O\n",
      "-----------\n",
      " O | X | O\n",
      "Draw!\n",
      "Play Game?(Y,N)N\n"
     ]
    }
   ],
   "source": [
    "## Play Against Q-Learning Player\n",
    "\n",
    "while True:\n",
    "    user_input=input('Play Game?(Y,N)')\n",
    "    if user_input=='N':\n",
    "        break\n",
    "    Play= TicTacToe(p1, p2)\n",
    "    Play.Game(X_Wins,O_Wins,Game_Type)"
   ]
  },
  {
   "cell_type": "code",
   "execution_count": 5,
   "metadata": {
    "collapsed": false,
    "scrolled": true
   },
   "outputs": [],
   "source": [
    "import numpy as np\n",
    "Temp_q=q\n",
    "New_q=[]\n",
    "Y_Train=[]\n",
    "for key in Temp_q:\n",
    "    if Temp_q[key]!=0:\n",
    "        #print(key)\n",
    "        State_Tuple=key[0]\n",
    "        State_List=[]\n",
    "        Action=[0] * 9\n",
    "        for Slot in State_Tuple:\n",
    "            if Slot==' ':\n",
    "                Slot=-1\n",
    "            if Slot=='X':\n",
    "                Slot=0\n",
    "            if Slot=='O':\n",
    "                Slot=1\n",
    "            #print(Slot)\n",
    "            State_List.append(Slot)\n",
    "        Action[key[1]-1]=1\n",
    "        State_Action=State_List+Action\n",
    "        Temp_Y_Multi=Temp_q[key]\n",
    "        New_q.append([State_Action,Temp_Y_Multi])\n",
    "        Y_Train.append(Temp_q[key])\n",
    "        #print(Temp_q[key])\n",
    "# print(New_q,Y_Train)\n",
    "# print(len(New_q))\n",
    "# print(len(Y_Train))\n",
    "training_data=New_q\n",
    "X = np.array([i[0] for i in training_data])\n",
    "Y = [i[1] for i in training_data]\n",
    "# print(Y)\n",
    "# print(Action)\n",
    "# print(len(X[0]))\n",
    "# print(min(Y))\n",
    "# print(max(Y))\n",
    "# print(((Y[0])-min(Y))/(max(Y)-min(Y)))"
   ]
  },
  {
   "cell_type": "code",
   "execution_count": 6,
   "metadata": {
    "collapsed": false,
    "scrolled": true
   },
   "outputs": [],
   "source": [
    "from sklearn import preprocessing\n",
    "Y_Train=np.reshape(Y,(-1,))\n",
    "Y_Train=preprocessing.scale(Y_Train)"
   ]
  },
  {
   "cell_type": "code",
   "execution_count": 7,
   "metadata": {
    "collapsed": false,
    "scrolled": false
   },
   "outputs": [
    {
     "name": "stdout",
     "output_type": "stream",
     "text": [
      "Iteration 1, loss = 0.48710978\n",
      "Iteration 2, loss = 0.45886756\n",
      "Iteration 3, loss = 0.42962369\n",
      "Iteration 4, loss = 0.38085323\n",
      "Iteration 5, loss = 0.31995340\n",
      "Iteration 6, loss = 0.27159994\n",
      "Iteration 7, loss = 0.22224577\n",
      "Iteration 8, loss = 0.19003420\n",
      "Iteration 9, loss = 0.16634227\n",
      "Iteration 10, loss = 0.14176514\n",
      "Iteration 11, loss = 0.12250096\n",
      "Iteration 12, loss = 0.10622097\n",
      "Iteration 13, loss = 0.09104919\n",
      "Iteration 14, loss = 0.08279620\n",
      "Iteration 15, loss = 0.07824251\n",
      "Iteration 16, loss = 0.06922519\n",
      "Iteration 17, loss = 0.06155733\n",
      "Iteration 18, loss = 0.05589023\n",
      "Iteration 19, loss = 0.05247630\n",
      "Iteration 20, loss = 0.04878741\n",
      "Iteration 21, loss = 0.04563115\n",
      "Iteration 22, loss = 0.04193824\n",
      "Iteration 23, loss = 0.04047862\n",
      "Iteration 24, loss = 0.03810414\n",
      "Iteration 25, loss = 0.03540294\n",
      "Iteration 26, loss = 0.03305733\n",
      "Iteration 27, loss = 0.03102810\n",
      "Iteration 28, loss = 0.03099878\n",
      "Iteration 29, loss = 0.02960099\n",
      "Iteration 30, loss = 0.02766132\n",
      "Iteration 31, loss = 0.02691896\n",
      "Iteration 32, loss = 0.02603134\n",
      "Iteration 33, loss = 0.02678054\n",
      "Iteration 34, loss = 0.02521428\n",
      "Iteration 35, loss = 0.02430545\n",
      "Iteration 36, loss = 0.02266328\n",
      "Iteration 37, loss = 0.02274096\n",
      "Iteration 38, loss = 0.02328745\n",
      "Iteration 39, loss = 0.02409920\n",
      "Training loss did not improve more than tol=0.000010 for two consecutive epochs. Stopping.\n"
     ]
    },
    {
     "data": {
      "text/plain": [
       "MLPRegressor(activation='relu', alpha=0.001, batch_size='auto', beta_1=0.9,\n",
       "       beta_2=0.999, early_stopping=False, epsilon=1e-08,\n",
       "       hidden_layer_sizes=(325, 325, 325), learning_rate='adaptive',\n",
       "       learning_rate_init=0.001, max_iter=200, momentum=0.9,\n",
       "       nesterovs_momentum=True, power_t=0.5, random_state=1, shuffle=True,\n",
       "       solver='adam', tol=1e-05, validation_fraction=0.1, verbose=True,\n",
       "       warm_start=False)"
      ]
     },
     "execution_count": 7,
     "metadata": {},
     "output_type": "execute_result"
    }
   ],
   "source": [
    "from sklearn.neural_network import MLPRegressor\n",
    "clf = MLPRegressor(solver='adam', alpha=1e-3,learning_rate_init=0.001,verbose=True,activation='relu',tol=1e-5,\n",
    "                    hidden_layer_sizes=(325,325,325), random_state=1,learning_rate='adaptive',max_iter=200)\n",
    "clf.fit(X, Y_Train)"
   ]
  },
  {
   "cell_type": "code",
   "execution_count": 8,
   "metadata": {
    "collapsed": false
   },
   "outputs": [],
   "source": [
    "# # # Write Pickle Neural Network\n",
    "# f = open(\"Neural_Network.pickle\",\"wb\")\n",
    "# pickle.dump(clf, f)\n",
    "# f.close()\n",
    "\n",
    "# # # Load Pickle Neural Network\n",
    "# pickle_in = open(\"Neural_Network.pickle\",\"rb\")\n",
    "# clf = pickle.load(pickle_in)"
   ]
  },
  {
   "cell_type": "code",
   "execution_count": 9,
   "metadata": {
    "collapsed": false,
    "scrolled": false
   },
   "outputs": [
    {
     "name": "stdout",
     "output_type": "stream",
     "text": [
      "Play Game?(Y,N)Y\n",
      "\n",
      "New game!\n",
      "   |   |  \n",
      "-----------\n",
      "   |   |  \n",
      "-----------\n",
      "   |   |  \n",
      "Your Move?5\n",
      "Neural_Network Player Thinking...\n",
      " X |   |  \n",
      "-----------\n",
      "   | O |  \n",
      "-----------\n",
      "   |   |  \n",
      "Your Move?7\n",
      "Neural_Network Player Thinking...\n",
      " X |   | X\n",
      "-----------\n",
      "   | O |  \n",
      "-----------\n",
      " O |   |  \n",
      "Your Move?2\n",
      "Neural_Network Player Thinking...\n",
      " X | O | X\n",
      "-----------\n",
      "   | O |  \n",
      "-----------\n",
      " O | X |  \n",
      "Your Move?6\n",
      "Neural_Network Player Thinking...\n",
      " X | O | X\n",
      "-----------\n",
      " X | O | O\n",
      "-----------\n",
      " O | X |  \n",
      "Your Move?9\n",
      " X | O | X\n",
      "-----------\n",
      " X | O | O\n",
      "-----------\n",
      " O | X | O\n",
      "Draw!\n",
      "Play Game?(Y,N)N\n"
     ]
    }
   ],
   "source": [
    "p2 = Player()\n",
    "p1.epsilon = 0\n",
    "Print_Winner=True\n",
    "Game_Type='Neural_Network'\n",
    "while True:\n",
    "    user_input=input('Play Game?(Y,N)')\n",
    "    if user_input=='N':\n",
    "        break\n",
    "    Play= TicTacToe(p1, p2)\n",
    "    Play.Game(X_Wins,O_Wins,Game_Type)"
   ]
  },
  {
   "cell_type": "code",
   "execution_count": 10,
   "metadata": {
    "collapsed": false
   },
   "outputs": [
    {
     "data": {
      "text/plain": [
       "0.96601687976240169"
      ]
     },
     "execution_count": 10,
     "metadata": {},
     "output_type": "execute_result"
    }
   ],
   "source": [
    "clf.score(X,Y_Train)"
   ]
  },
  {
   "cell_type": "code",
   "execution_count": 11,
   "metadata": {
    "collapsed": false
   },
   "outputs": [
    {
     "data": {
      "text/plain": [
       "0.96608274153626372"
      ]
     },
     "execution_count": 11,
     "metadata": {},
     "output_type": "execute_result"
    }
   ],
   "source": [
    "from sklearn.metrics import explained_variance_score\n",
    "explained_variance_score(Y_Train, clf.predict(X), multioutput='uniform_average')"
   ]
  },
  {
   "cell_type": "code",
   "execution_count": 12,
   "metadata": {
    "collapsed": false
   },
   "outputs": [
    {
     "data": {
      "text/plain": [
       "array([ 0.14103745])"
      ]
     },
     "execution_count": 12,
     "metadata": {},
     "output_type": "execute_result"
    }
   ],
   "source": [
    "from sklearn.metrics import mean_absolute_error\n",
    "mean_absolute_error(Y_Train, clf.predict(X), multioutput='raw_values')"
   ]
  },
  {
   "cell_type": "code",
   "execution_count": 13,
   "metadata": {
    "collapsed": false
   },
   "outputs": [
    {
     "data": {
      "text/plain": [
       "array([-0.69087484])"
      ]
     },
     "execution_count": 13,
     "metadata": {},
     "output_type": "execute_result"
    }
   ],
   "source": [
    "clf.predict(X[0].reshape(1,-1))"
   ]
  },
  {
   "cell_type": "code",
   "execution_count": 14,
   "metadata": {
    "collapsed": false,
    "scrolled": true
   },
   "outputs": [
    {
     "name": "stdout",
     "output_type": "stream",
     "text": [
      "Iterations: 20000, X_Wins: 0.00%, O_Wins: 0.00%, Draws%: 100.00% \n",
      "Iterations: 40000, X_Wins: 0.00%, O_Wins: 0.00%, Draws%: 100.00% \n",
      "Iterations: 60000, X_Wins: 0.00%, O_Wins: 0.00%, Draws%: 100.00% \n",
      "Iterations: 80000, X_Wins: 0.00%, O_Wins: 0.00%, Draws%: 100.00% \n",
      "Iterations: 100000, X_Wins: 0.00%, O_Wins: 0.00%, Draws%: 100.00% \n"
     ]
    }
   ],
   "source": [
    "X_Wins=0\n",
    "O_Wins=0\n",
    "p1 = Q_Learning_Player()\n",
    "p2 = Q_Learning_Player()\n",
    "p1.epsilon=0\n",
    "p1.gamma=0\n",
    "p1.alpha=0\n",
    "p2.epsilon=0\n",
    "p2.gamma=0\n",
    "p2.alpha=0\n",
    "Game_Type='Neural_Network'\n",
    "Print_Winner=False\n",
    "for i in range(1,100001):\n",
    "    Play= TicTacToe(p1, p2)\n",
    "    #p1.epsilon=max(p1.epsilon*0.999,0.02)\n",
    "    #p2.epsilon=max(p2.epsilon*0.999,0.02)\n",
    "    X_Wins,O_Wins=Play.Game(X_Wins,O_Wins,Game_Type)\n",
    "    if i%20000==0:\n",
    "        print(('Iterations: {}, X_Wins: {:0.2f}%, O_Wins: {:0.2f}%, Draws%: {:0.2f}% ').format(i,\n",
    "                                    X_Wins/200,O_Wins/200,100-((X_Wins+O_Wins)/200)))\n",
    "        X_Wins=0\n",
    "        O_Wins=0"
   ]
  },
  {
   "cell_type": "code",
   "execution_count": 15,
   "metadata": {
    "collapsed": false,
    "scrolled": true
   },
   "outputs": [
    {
     "data": {
      "image/png": "[encoded data removed]",
      "text/plain": [
       "<matplotlib.figure.Figure at 0x1c06f8c4e80>"
      ]
     },
     "metadata": {},
     "output_type": "display_data"
    }
   ],
   "source": [
    "import matplotlib.pyplot as plt\n",
    "#plt.plot(Y_Train,  color='black')\n",
    "plt.scatter(Y_Train,clf.predict(X), color='blue',\n",
    "         linewidth=0.1)\n",
    "plt.plot([-4,8],[-4,8],color='black')\n",
    "plt.title=\"Predicted Values vs Target values\"\n",
    "plt.xlabel=(\"Targets\")\n",
    "plt.ylabel=(\"Predicted\")\n",
    "plt.savefig('Accuracy.png')\n",
    "plt.show()"
   ]
  },
  {
   "cell_type": "code",
   "execution_count": null,
   "metadata": {
    "collapsed": false
   },
   "outputs": [],
   "source": []
  },
  {
   "cell_type": "code",
   "execution_count": null,
   "metadata": {
    "collapsed": true
   },
   "outputs": [],
   "source": []
  }
 ],
 "metadata": {
  "anaconda-cloud": {},
  "kernelspec": {
   "display_name": "Python [conda root]",
   "language": "python",
   "name": "conda-root-py"
  },
  "language_info": {
   "codemirror_mode": {
    "name": "ipython",
    "version": 3
   },
   "file_extension": ".py",
   "mimetype": "text/x-python",
   "name": "python",
   "nbconvert_exporter": "python",
   "pygments_lexer": "ipython3",
   "version": "3.5.2"
  }
 },
 "nbformat": 4,
 "nbformat_minor": 1
}
